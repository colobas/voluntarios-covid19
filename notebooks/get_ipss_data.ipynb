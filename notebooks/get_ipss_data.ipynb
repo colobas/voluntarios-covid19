{
 "cells": [
  {
   "cell_type": "code",
   "execution_count": 8,
   "metadata": {},
   "outputs": [],
   "source": [
    "import requests\n",
    "from bs4 import BeautifulSoup\n",
    "from tqdm import tqdm\n",
    "import pandas as pd"
   ]
  },
  {
   "cell_type": "code",
   "execution_count": 2,
   "metadata": {},
   "outputs": [
    {
     "name": "stderr",
     "output_type": "stream",
     "text": [
      "100%|██████████| 10000/10000 [34:40<00:00,  4.81it/s] \n"
     ]
    }
   ],
   "source": [
    "ipss = []\n",
    "for id_ in tqdm(range(10000)):\n",
    "    try:\n",
    "        info = []\n",
    "        url_example = f'http://cartasocial.pt/resultados_pesquisadetalhe.php?&equip={id_}'\n",
    "        soup = BeautifulSoup(requests.get(url_example).content, 'html.parser')\n",
    "        info = [td.text.replace('\\xa0', ' ').strip() for td in soup.findAll(\"td\", {\"class\": \"info2\"})]\n",
    "        info.append([td.text.replace('\\xa0', ' ').strip().split('/') for td in soup.findAll(\"td\", {\"class\": \"info3\"})])\n",
    "        if info:\n",
    "            ipss.append(info)\n",
    "        else:\n",
    "            print(id_)\n",
    "    except Exception as e:\n",
    "        print(id_)\n",
    "        print(e)"
   ]
  },
  {
   "cell_type": "code",
   "execution_count": 15,
   "metadata": {},
   "outputs": [],
   "source": [
    "ipss_emails = pd.DataFrame(ipss)[2].values.tolist()"
   ]
  },
  {
   "cell_type": "code",
   "execution_count": 21,
   "metadata": {},
   "outputs": [],
   "source": [
    "ipss_emails = [e for e in ipss_emails if e]"
   ]
  },
  {
   "cell_type": "code",
   "execution_count": 22,
   "metadata": {},
   "outputs": [],
   "source": [
    "ipss_emails = [e for e in ipss_emails if '@' in e]"
   ]
  },
  {
   "cell_type": "code",
   "execution_count": 24,
   "metadata": {},
   "outputs": [
    {
     "data": {
      "text/plain": [
       "3883"
      ]
     },
     "execution_count": 24,
     "metadata": {},
     "output_type": "execute_result"
    }
   ],
   "source": [
    "len(ipss_emails)"
   ]
  },
  {
   "cell_type": "code",
   "execution_count": 38,
   "metadata": {},
   "outputs": [
    {
     "data": {
      "text/plain": [
       "3279"
      ]
     },
     "execution_count": 38,
     "metadata": {},
     "output_type": "execute_result"
    }
   ],
   "source": [
    "len(set(ipss_emails))"
   ]
  },
  {
   "cell_type": "code",
   "execution_count": 44,
   "metadata": {},
   "outputs": [],
   "source": [
    "pd.options.display.max_seq_items = 5000"
   ]
  },
  {
   "cell_type": "code",
   "execution_count": 46,
   "metadata": {
    "scrolled": false
   },
   "outputs": [],
   "source": [
    "with open('emails.txt', 'w') as f:\n",
    "    for item in set(ipss_emails):\n",
    "        f.write(\"%s\\n\" % item)"
   ]
  },
  {
   "cell_type": "code",
   "execution_count": null,
   "metadata": {},
   "outputs": [],
   "source": []
  }
 ],
 "metadata": {
  "kernelspec": {
   "display_name": "Python 3",
   "language": "python",
   "name": "python3"
  },
  "language_info": {
   "codemirror_mode": {
    "name": "ipython",
    "version": 3
   },
   "file_extension": ".py",
   "mimetype": "text/x-python",
   "name": "python",
   "nbconvert_exporter": "python",
   "pygments_lexer": "ipython3",
   "version": "3.7.3"
  }
 },
 "nbformat": 4,
 "nbformat_minor": 4
}
