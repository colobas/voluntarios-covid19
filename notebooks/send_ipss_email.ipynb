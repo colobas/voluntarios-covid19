{
 "cells": [
  {
   "cell_type": "code",
   "execution_count": 7,
   "metadata": {},
   "outputs": [],
   "source": [
    "emails = ['assc.bem.fazer@sapo.pt',\n",
    "'amcdrvaledeazares@hotmail.com',\n",
    "'asccm@sapo.pt',\n",
    "'cercimb.sede@gmail.com',\n",
    "'centro.paroq.ereira@mail.telepac.pt',\n",
    "'apiterena@sapo.pt',\n",
    "'geral@csouca.pt',\n",
    "'RPFALVES@APPC.PT',\n",
    "'centrosocialmeas@gmail.com',\n",
    "'dts.iscmfa@gmail.com',\n",
    "'ribeiracavado@gmail.com',\n",
    "'recolhimentolapa@lapa.pt',\n",
    "'geral@premium-care.pt',\n",
    "'Assif_ahmed@hotmail.com',\n",
    "'voluntarios.scmcd@gmail.com',\n",
    "'contrh.scmvrsa@gmail.com',\n",
    "'anabelaisidoro.cbesza@gmail.com',\n",
    "'resp.cpi@scment.org',\n",
    "'monicasoares@bomfim.org',\n",
    "'anem@anem.org.pt',\n",
    "'vera_truta@live.com.pt',]"
   ]
  },
  {
   "cell_type": "code",
   "execution_count": 8,
   "metadata": {},
   "outputs": [],
   "source": [
    "TEXT = \"\"\"\n",
    "Boa noite\n",
    "\n",
    "Envio email na sequência do pedido de apoio por parte da vossa instituição.\n",
    "\n",
    "Gostava apenas de saber se chegou a vossa instituição algum tipo de equipamento, tendo em conta que me foi dito que seriam enviadas viseiras durante esta semana.\n",
    "\n",
    "Caso não tenham recebido nada, pedia que me alertassem para conseguir perceber o que se passa com os apoios que conseguimos agregar.\n",
    "\n",
    "Obrigado pela atenção,\n",
    "Gustavo.\n",
    "\"\"\""
   ]
  },
  {
   "cell_type": "code",
   "execution_count": null,
   "metadata": {},
   "outputs": [],
   "source": [
    "TEXT = \"\"\"\n",
    "Bom dia,\n",
    "\n",
    "O meu nome é Gustavo Carita, tenho 27 anos, sou de Lisboa e sou engenheiro.\n",
    "\n",
    "Recentemente apercebi-me que, na actual conjuntura, existe uma carência nacional de profissionais para apoiar IPSS-Instituicoes Privadas de Solidariedade Social e decidi meter mãos á obra para tentar ajudar.\n",
    "\n",
    "Eu e mais uns amigos criámos um website para ajudar as IPSS, duma forma simples e eficaz.\n",
    "\n",
    "Pode verificar o website em: https://voluntarios-covid19.pt/\n",
    "\n",
    "Neste momento estamos a comunicar com todas as IPSS presentes na plataforma http://cartasocial.pt/.\n",
    "\n",
    "Para divulgarem a ajuda que precisam nesta fase, basta preencher o seguinte formulário: https://forms.gle/nC2GNNMcW8pyXiYw7\n",
    "\n",
    "Daremos o nosso melhor para promover as vossas iniciativas e obter toda a ajuda necessária.\n",
    "\n",
    "Obrigado,\n",
    "Gustavo.\n",
    "<voluntarios.covid19.portugal@gmail.com>\n",
    "\"\"\""
   ]
  },
  {
   "cell_type": "code",
   "execution_count": 9,
   "metadata": {},
   "outputs": [],
   "source": [
    "TO = 'gustavosilvacarita@gmail.com'\n",
    "SUBJECT = 'IPSS Trial'\n",
    "\n",
    "\n",
    "# Gmail Sign In\n",
    "gmail_sender = 'voluntarios.covid19.portugal@gmail.com'\n",
    "gmail_passwd = 'voluntariado123@'"
   ]
  },
  {
   "cell_type": "code",
   "execution_count": null,
   "metadata": {},
   "outputs": [],
   "source": []
  },
  {
   "cell_type": "code",
   "execution_count": 10,
   "metadata": {},
   "outputs": [],
   "source": [
    "def create_message(sender, to, subject, message_text):\n",
    "    \"\"\"Create a message for an email.\n",
    "\n",
    "    Args:\n",
    "    sender: Email address of the sender.\n",
    "    to: Email address of the receiver.\n",
    "    subject: The subject of the email message.\n",
    "    message_text: The text of the email message.\n",
    "\n",
    "    Returns:\n",
    "    An object containing a base64url encoded email object.\n",
    "    \"\"\"\n",
    "    message = MIMEText(message_text)\n",
    "    message['to'] = to\n",
    "    message['from'] = sender\n",
    "    message['subject'] = subject\n",
    "    b64_bytes = base64.urlsafe_b64encode(message.as_bytes())\n",
    "    b64_string = b64_bytes.decode()\n",
    "    body = {'raw': b64_string}\n",
    "    return body"
   ]
  },
  {
   "cell_type": "code",
   "execution_count": 11,
   "metadata": {},
   "outputs": [],
   "source": [
    "from email.mime.text import MIMEText\n",
    "import base64"
   ]
  },
  {
   "cell_type": "code",
   "execution_count": 12,
   "metadata": {},
   "outputs": [],
   "source": [
    "from googleapiclient.discovery import build\n",
    "import pickle\n",
    "from tqdm import tqdm\n",
    "from time import sleep\n",
    "import random\n",
    "\n",
    "with open('../../ipss_mailing/token.pickle', 'rb') as token:\n",
    "    creds = pickle.load(token)\n",
    "    \n",
    "service = build('gmail', 'v1', credentials=creds)"
   ]
  },
  {
   "cell_type": "code",
   "execution_count": 13,
   "metadata": {},
   "outputs": [],
   "source": [
    "def send_message(service, user_id, message):\n",
    "    \"\"\"Send an email message.\n",
    "\n",
    "    Args:\n",
    "    service: Authorized Gmail API service instance.\n",
    "    user_id: User's email address. The special value \"me\"\n",
    "    can be used to indicate the authenticated user.\n",
    "    message: Message to be sent.\n",
    "\n",
    "    Returns:\n",
    "    Sent Message.\n",
    "    \"\"\"\n",
    "    try:\n",
    "        message = (service.users().messages().send(userId=user_id, body=message)\n",
    "               .execute())\n",
    "        print('Message Id: %s' % message['id'])\n",
    "        return message\n",
    "    except Exception as e:\n",
    "        print(e)"
   ]
  },
  {
   "cell_type": "code",
   "execution_count": 6,
   "metadata": {},
   "outputs": [],
   "source": [
    "temp = open('../../ipss_mailing/emails.txt', 'r').readlines()\n",
    "temp = [email.replace('\\n', '') for email in temp]"
   ]
  },
  {
   "cell_type": "code",
   "execution_count": 14,
   "metadata": {},
   "outputs": [],
   "source": [
    "temp = [\n",
    "    'ines.silva.carita@gmail.com', \n",
    "    'gustavosilvacarita@gmail.com'\n",
    "] +  emails"
   ]
  },
  {
   "cell_type": "code",
   "execution_count": 17,
   "metadata": {},
   "outputs": [
    {
     "name": "stderr",
     "output_type": "stream",
     "text": [
      "\r",
      "  0%|          | 0/23 [00:00<?, ?it/s]"
     ]
    },
    {
     "name": "stdout",
     "output_type": "stream",
     "text": [
      "Message Id: 171bdbdd3f387d7b\n"
     ]
    },
    {
     "name": "stderr",
     "output_type": "stream",
     "text": [
      "\r",
      "  4%|▍         | 1/23 [00:02<00:57,  2.60s/it]"
     ]
    },
    {
     "name": "stdout",
     "output_type": "stream",
     "text": [
      "Message Id: 171bdbdda031b092\n"
     ]
    },
    {
     "name": "stderr",
     "output_type": "stream",
     "text": [
      " 13%|█▎        | 3/23 [00:04<00:33,  1.67s/it]"
     ]
    },
    {
     "name": "stdout",
     "output_type": "stream",
     "text": [
      "Message Id: 171bdbde1a233b89\n",
      "Message Id: 171bdbde20748046\n"
     ]
    },
    {
     "name": "stderr",
     "output_type": "stream",
     "text": [
      "\r",
      " 17%|█▋        | 4/23 [00:06<00:35,  1.86s/it]"
     ]
    },
    {
     "name": "stdout",
     "output_type": "stream",
     "text": [
      "Message Id: 171bdbdea25a4339\n"
     ]
    },
    {
     "name": "stderr",
     "output_type": "stream",
     "text": [
      "\r",
      " 22%|██▏       | 5/23 [00:08<00:36,  2.01s/it]"
     ]
    },
    {
     "name": "stdout",
     "output_type": "stream",
     "text": [
      "Message Id: 171bdbdf5ea82960\n"
     ]
    },
    {
     "name": "stderr",
     "output_type": "stream",
     "text": [
      " 30%|███       | 7/23 [00:10<00:21,  1.37s/it]"
     ]
    },
    {
     "name": "stdout",
     "output_type": "stream",
     "text": [
      "Message Id: 171bdbdf83d18bec\n",
      "Message Id: 171bdbdfbaed0bb5\n"
     ]
    },
    {
     "name": "stderr",
     "output_type": "stream",
     "text": [
      "\r",
      " 35%|███▍      | 8/23 [00:11<00:20,  1.34s/it]"
     ]
    },
    {
     "name": "stdout",
     "output_type": "stream",
     "text": [
      "Message Id: 171bdbdffa5d6cc6\n"
     ]
    },
    {
     "name": "stderr",
     "output_type": "stream",
     "text": [
      "\r",
      " 39%|███▉      | 9/23 [00:14<00:23,  1.65s/it]"
     ]
    },
    {
     "name": "stdout",
     "output_type": "stream",
     "text": [
      "Message Id: 171bdbe0930f05bd\n"
     ]
    },
    {
     "name": "stderr",
     "output_type": "stream",
     "text": [
      "\r",
      " 43%|████▎     | 10/23 [00:15<00:20,  1.56s/it]"
     ]
    },
    {
     "name": "stdout",
     "output_type": "stream",
     "text": [
      "Message Id: 171bdbe0e6147311\n"
     ]
    },
    {
     "name": "stderr",
     "output_type": "stream",
     "text": [
      "\r",
      " 48%|████▊     | 11/23 [00:16<00:17,  1.49s/it]"
     ]
    },
    {
     "name": "stdout",
     "output_type": "stream",
     "text": [
      "Message Id: 171bdbe1392b2c69\n"
     ]
    },
    {
     "name": "stderr",
     "output_type": "stream",
     "text": [
      "\r",
      " 52%|█████▏    | 12/23 [00:18<00:15,  1.44s/it]"
     ]
    },
    {
     "name": "stdout",
     "output_type": "stream",
     "text": [
      "Message Id: 171bdbe190abaae0\n"
     ]
    },
    {
     "name": "stderr",
     "output_type": "stream",
     "text": [
      " 61%|██████    | 14/23 [00:21<00:11,  1.30s/it]"
     ]
    },
    {
     "name": "stdout",
     "output_type": "stream",
     "text": [
      "Message Id: 171bdbe203bfc61b\n",
      "Message Id: 171bdbe233decbb5\n"
     ]
    },
    {
     "name": "stderr",
     "output_type": "stream",
     "text": [
      "\r",
      " 65%|██████▌   | 15/23 [00:23<00:12,  1.61s/it]"
     ]
    },
    {
     "name": "stdout",
     "output_type": "stream",
     "text": [
      "Message Id: 171bdbe2d5288ad5\n"
     ]
    },
    {
     "name": "stderr",
     "output_type": "stream",
     "text": [
      " 74%|███████▍  | 17/23 [00:25<00:07,  1.17s/it]"
     ]
    },
    {
     "name": "stdout",
     "output_type": "stream",
     "text": [
      "Message Id: 171bdbe3129ff13d\n"
     ]
    },
    {
     "name": "stderr",
     "output_type": "stream",
     "text": [
      "\r",
      " 78%|███████▊  | 18/23 [00:25<00:04,  1.06it/s]"
     ]
    },
    {
     "name": "stdout",
     "output_type": "stream",
     "text": [
      "Message Id: 171bdbe32d69ccf7\n",
      "Message Id: 171bdbe347f61457\n"
     ]
    },
    {
     "name": "stderr",
     "output_type": "stream",
     "text": [
      " 87%|████████▋ | 20/23 [00:27<00:02,  1.20it/s]"
     ]
    },
    {
     "name": "stdout",
     "output_type": "stream",
     "text": [
      "Message Id: 171bdbe391b430f6\n"
     ]
    },
    {
     "name": "stderr",
     "output_type": "stream",
     "text": [
      "\r",
      " 91%|█████████▏| 21/23 [00:27<00:01,  1.48it/s]"
     ]
    },
    {
     "name": "stdout",
     "output_type": "stream",
     "text": [
      "Message Id: 171bdbe3bc3bb643\n",
      "Message Id: 171bdbe3cd88dc19\n"
     ]
    },
    {
     "name": "stderr",
     "output_type": "stream",
     "text": [
      "\r",
      " 96%|█████████▌| 22/23 [00:28<00:00,  1.16it/s]"
     ]
    },
    {
     "name": "stdout",
     "output_type": "stream",
     "text": [
      "Message Id: 171bdbe415d096ac\n"
     ]
    },
    {
     "name": "stderr",
     "output_type": "stream",
     "text": [
      "100%|██████████| 23/23 [00:30<00:00,  1.35s/it]\n"
     ]
    }
   ],
   "source": [
    "for t in tqdm(temp):\n",
    "    try:\n",
    "        send_message(service, \"me\", create_message(\n",
    "            'voluntarios.covid19.portugal@gmail.com', \n",
    "            t, \n",
    "            'Voluntarios COVID19 - Confirmação',\n",
    "            TEXT\n",
    "        ))\n",
    "        sleep(random.randint(0,2))\n",
    "    except Exception as e:\n",
    "        print(e)\n",
    "        print(t)"
   ]
  },
  {
   "cell_type": "code",
   "execution_count": null,
   "metadata": {},
   "outputs": [],
   "source": []
  }
 ],
 "metadata": {
  "kernelspec": {
   "display_name": "Python 3",
   "language": "python",
   "name": "python3"
  },
  "language_info": {
   "codemirror_mode": {
    "name": "ipython",
    "version": 3
   },
   "file_extension": ".py",
   "mimetype": "text/x-python",
   "name": "python",
   "nbconvert_exporter": "python",
   "pygments_lexer": "ipython3",
   "version": "3.7.3"
  }
 },
 "nbformat": 4,
 "nbformat_minor": 4
}
